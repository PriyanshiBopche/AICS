{
  "nbformat": 4,
  "nbformat_minor": 0,
  "metadata": {
    "colab": {
      "provenance": [],
      "collapsed_sections": [],
      "authorship_tag": "ABX9TyNGut5oCMMMQs1Qo8u9p1FL",
      "include_colab_link": true
    },
    "kernelspec": {
      "name": "python3",
      "display_name": "Python 3"
    },
    "language_info": {
      "name": "python"
    }
  },
  "cells": [
    {
      "cell_type": "markdown",
      "metadata": {
        "id": "view-in-github",
        "colab_type": "text"
      },
      "source": [
        "<a href=\"https://colab.research.google.com/github/PriyanshiBopche/AICS/blob/main/AICS1.ipynb\" target=\"_parent\"><img src=\"https://colab.research.google.com/assets/colab-badge.svg\" alt=\"Open In Colab\"/></a>"
      ]
    },
    {
      "cell_type": "code",
      "execution_count": null,
      "metadata": {
        "colab": {
          "base_uri": "https://localhost:8080/"
        },
        "id": "7LtU4gcYccjf",
        "outputId": "a994f35e-120c-4386-d1ff-f5d0ea2367aa"
      },
      "outputs": [
        {
          "output_type": "stream",
          "name": "stdout",
          "text": [
            "List is  [1, 2, 3, 4, 5, 6, 7, 8, 9, 10]\n",
            "10\n",
            "[10, 9, 8, 7, 6, 5, 4, 3, 2, 1]\n",
            "[10, 9, 8, 7, 6, 5, 4, 3, 2, 1, 11]\n"
          ]
        }
      ],
      "source": [
        "list = [1,2,3,4,5,6,7,8,9,10]\n",
        "print(\"List is \",list)\n",
        "print(len(list))\n",
        "list.reverse()\n",
        "print(list)\n",
        "list.append(11)\n",
        "print(list)"
      ]
    },
    {
      "cell_type": "code",
      "source": [
        "dict = {\n",
        "    \"name\": \"Kelly\",\n",
        "    \"age\": 27,\n",
        "    \"salary\": 10000,\n",
        "    \"city\": \"New york\"\n",
        "}\n",
        "dict.pop(\"salary\")\n",
        "print(dict)\n",
        "print(dict['name'])\n",
        "dict[\"city\"]=\"Nagpur\"\n",
        "print(dict)"
      ],
      "metadata": {
        "id": "7soD0MlQBkN1",
        "colab": {
          "base_uri": "https://localhost:8080/"
        },
        "outputId": "87d84810-4059-44d5-f917-f58da729d0ec"
      },
      "execution_count": 8,
      "outputs": [
        {
          "output_type": "stream",
          "name": "stdout",
          "text": [
            "{'name': 'Kelly', 'age': 27, 'city': 'New york'}\n",
            "Kelly\n",
            "{'name': 'Kelly', 'age': 27, 'city': 'Nagpur'}\n"
          ]
        }
      ]
    },
    {
      "cell_type": "code",
      "source": [],
      "metadata": {
        "id": "bBajXSn1-dNO"
      },
      "execution_count": null,
      "outputs": []
    }
  ]
}